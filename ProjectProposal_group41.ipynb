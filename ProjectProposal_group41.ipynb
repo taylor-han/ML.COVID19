{
 "cells": [
  {
   "cell_type": "markdown",
   "metadata": {},
   "source": [
    "# COGS 108 - Final Project Proposal"
   ]
  },
  {
   "cell_type": "markdown",
   "metadata": {},
   "source": [
    "# Names\n",
    "\n",
    "- Taylor Han\n",
    "- Luis Navarro\n",
    "- Mitchell Gault\n",
    "- Seoyoung Lim"
   ]
  },
  {
   "cell_type": "markdown",
   "metadata": {},
   "source": [
    "# Group Members IDs\n",
    "\n",
    "- A13674829\n",
    "- A13547546\n",
    "- A14796194\n",
    "- A15686819"
   ]
  },
  {
   "cell_type": "markdown",
   "metadata": {},
   "source": [
    "# Research Question"
   ]
  },
  {
   "cell_type": "markdown",
   "metadata": {},
   "source": [
    "\"*How much of new daily COVID-19 cases per state can be explained by the number and distance of interstate travel in the US? How much can we reduce COVID–19 spread by staying home?*\""
   ]
  },
  {
   "cell_type": "markdown",
   "metadata": {},
   "source": [
    "## Background and Prior Work"
   ]
  },
  {
   "cell_type": "markdown",
   "metadata": {},
   "source": [
    "Between August 2nd and September 5th 2020, the CDC reported that the weekly COVID-19 cases within individuals aged 18 and 22 increased to 55% across the nation [1]. This has resulted in warnings issued to Americans from international travel, pointing to the enhancement of safety and health conditions in certain states (cdc.gov). The CDC has continually informed the public on how traveling potentially increases the possibility of being infected and spreading the coronavirus and suggests that staying at home is the best preventive measure. However, many individuals have not yet taken such measures of spreading the virus seriously and still travel around [2]. Therefore, to adequately create public awareness and offer scientific analysis on the necessity of keeping of maintaining social distance, we demonstrate the correlation between the spread of COVID-19 and traveling mathematically through data algorithms [3].\n",
    "\n",
    "\n",
    "Various studies have been carried out to offer the algorithms for different viruses’ widespread presence techniques or predict the disease's spread rate. For example, WU and Leung [4] established the framework used to indicate the possible local and international coronavirus spread.\n",
    "\n",
    "\n",
    "In this detailed data analysis,the correlation between traveling between cities with new confirmed cases of COVID-19 in United States is demonstrated. The impact of air and urban traffic involving the passenger population and the number of flights, the new COVID-19 cases have been probed. This data's significance is that irrespective of the deficiency of comprehensive information concerning the data figure of travels among Americans, a relationship between the accumulative number of trips and the spread of COVID-19 cases can be established.\n",
    "\n",
    "\n",
    "References (include links):\n",
    "- 1) CDC government, September 29, 2020, https://www.cdc.gov/mmwr/volumes/69/wr/mm6939e4.htm\n",
    "- 2) Wikipedia Retrieved October 23, 2020, from https://en.wikipedia.org/wiki/COVID-19_pandemic_lockdowns\n",
    "- 3) Zhou P YX, Wang XG, Hu B, Zhang L, Zhang W, et al. A pneumonia outbreak associated with a new coronavirus of probable bat origin. Nature, https://pubmed.ncbi.nlm.nih.gov/32015507/2020.\n",
    "- 4) Wu et al., 2020b J.T. Wu, K. Leung, G.M. Leung Nowcasting and forecasting the potential domestic and international spread of the 2019-nCoV outbreak originating in Wuhan, China, https://www.sciencedirect.com/science/article/pii/S0009250920304504#bb0170"
   ]
  },
  {
   "cell_type": "markdown",
   "metadata": {},
   "source": [
    "# Hypothesis\n"
   ]
  },
  {
   "cell_type": "markdown",
   "metadata": {},
   "source": [
    "We predict that the number of new daily COVID-19 cases is positively correlated with the number of interstate travels. We also predict that the distance of interstate travel is positively correlated with the number of new daily COVID-19 cases, though weaker than to the total number of travels in that state."
   ]
  },
  {
   "cell_type": "markdown",
   "metadata": {},
   "source": [
    "# Data"
   ]
  },
  {
   "cell_type": "markdown",
   "metadata": {},
   "source": [
    "1. We'll be using the \"Trips by Distance\" dataset from the US Department of Transportation, Bureau of Transportation Statistics. The dataset contains number of trips separated by distance (1-3, 3-5, 5-10, etc) and by county/state, starting on January 1st, 2020.\n",
    "\n",
    "\n",
    "- Number of Observations: 2.07M\n",
    "- Number of features: 19\n",
    "\n",
    "\n",
    "2. Our second data comes from Kaggle, us_states_covid19_daily.csv. This dataset shows the number of daily COVID-19 cases per day by US state.\n",
    "\n",
    "\n",
    "- Number of Observations: 11.6K\n",
    "- Number of features: 54"
   ]
  },
  {
   "cell_type": "markdown",
   "metadata": {},
   "source": [
    "# Ethics & Privacy"
   ]
  },
  {
   "cell_type": "markdown",
   "metadata": {},
   "source": [
    "The datasets we are using have been stripped of personal identifiers and has been publicly shared by the COVID 19 Project and NY Times so privacy concerns did not apply. With that being said, we are cognizant of our data including deaths and ventilator usage, and while not the direct topic of our research we will keep these implications in the forefront of our minds. Our intentions with this question is to identify how interstate travel is correlated with COVID cases to provide policymakers with more information to better inform their decision making, and not put blame on those who travel interstate. The data we found is generated by volunteers collecting publicly shared information by county, hospital, and state and then compiling it into a central database. We expect the data to be generally unbiased as the data collected is nondiscriminatory, however it may be underrepresentative of 'true' figures due to lack of self reporting by individuals, delays in the updating of records, and lack of official government support.\n",
    "\n",
    "We also understand that interstate travel is the primary source of income for many individuals (i.e. delivery truck drivers) and do not intend to presume that they should be held responsible for the amount of COVID cases found as a result of our research. Additionally, if our research does lead to interstate travel restrictions, we hope that those whose incomes are reliant upon interstate travel are properly supported and that no blame should be placed onto them. \n",
    "\n",
    "Again, our goal is to help inform future policy changes and raise awareness regarding transmission rates by travel, rather than place fault upon any individual. "
   ]
  },
  {
   "cell_type": "markdown",
   "metadata": {},
   "source": [
    "# Team Expectations "
   ]
  },
  {
   "cell_type": "markdown",
   "metadata": {},
   "source": [
    "* Open and honest communication channels where everyone feels comfortable with sharing their opinions\n",
    "* Empathy for one another as these are trying times\n",
    "* Responsibility for their respective portions and ensuring that they complete their work by the predetermined deadline\n",
    "* Engagement and contribution in team meetings/channels\n",
    "* No 'ghosting'"
   ]
  },
  {
   "cell_type": "markdown",
   "metadata": {},
   "source": [
    "# Project Timeline Proposal"
   ]
  },
  {
   "cell_type": "markdown",
   "metadata": {},
   "source": [
    "| Meeting Date  | Meeting Time| Completed Before Meeting  | Discuss at Meeting |\n",
    "|---|---|---|---|\n",
    "| 10/22  |  3 PM | Read & Think about COGS 108 expectations; brainstorm topics/questions  | Determine best form of communication; Discuss and decide on final project topic; discuss hypothesis; begin background research | \n",
    "| 10/29  |  3 PM |  Do background research on topic | Discuss ideal dataset(s) and ethics; draft project proposal | \n",
    "| 11/13  | 3 PM  | Edit, finalize, and submit proposal; Search for datasets  | Discuss Wrangling and possible analytical approaches; Assign group members to lead each specific part   |\n",
    "| 11/20  | 3 PM  | Import & Wrangle Data (Taylor) | Review/Edit wrangling; Discuss Analysis Plan   |\n",
    "| 12/1  | 3 PM  | Finalize wrangling; Begin Analysis (Luis & Mitchell & Seoyoung) | Discuss/edit Analysis; Complete project check-in |\n",
    "| 12/6  | 3 PM  | Complete analysis; Draft results/conclusion/discussion (Taylor, Luis, Mitchell, Seoyoung)| Discuss/edit full project |\n",
    "| 12/14  | 3 PM  | Review final Jupyter notebook | Turn in Final Project & Group Project Surveys |"
   ]
  }
 ],
 "metadata": {
  "kernelspec": {
   "display_name": "Python 3",
   "language": "python",
   "name": "python3"
  },
  "language_info": {
   "codemirror_mode": {
    "name": "ipython",
    "version": 3
   },
   "file_extension": ".py",
   "mimetype": "text/x-python",
   "name": "python",
   "nbconvert_exporter": "python",
   "pygments_lexer": "ipython3",
   "version": "3.7.7"
  }
 },
 "nbformat": 4,
 "nbformat_minor": 2
}
